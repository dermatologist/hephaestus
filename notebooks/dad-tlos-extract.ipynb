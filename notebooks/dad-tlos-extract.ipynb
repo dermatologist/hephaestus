{
 "nbformat": 4,
 "nbformat_minor": 2,
 "metadata": {
  "language_info": {
   "name": "python",
   "codemirror_mode": {
    "name": "ipython",
    "version": 3
   },
   "version": "3.7.4"
  },
  "orig_nbformat": 2,
  "file_extension": ".py",
  "mimetype": "text/x-python",
  "name": "python",
  "npconvert_exporter": "python",
  "pygments_lexer": "ipython3",
  "version": 3
 },
 "cells": [
  {
   "cell_type": "markdown",
   "execution_count": 1,
   "metadata": {},
   "outputs": [
    {
     "name": "stdout",
     "output_type": "stream",
     "text": "Hello World\n"
    }
   ],
   "source": [
    "# Creating a Total length of stay model from Discharge Abstract Database\n",
    "\n",
    "## Creating the one-hot-encoded file"
   ]
  },
  {
   "cell_type": "code",
   "execution_count": 25,
   "metadata": {},
   "outputs": [],
   "source": [
    "import numpy as np\n",
    "import pandas as pd\n",
    "from sklearn.preprocessing import MultiLabelBinarizer\n",
    "import datetime\n",
    "import os \n",
    "\n",
    "\n",
    "df = pd.read_csv('/home/bell/Documents/work/temp/dad.csv', header = 0)\n",
    "\n",
    "# Number of characters of ICD and CCI to be included in the model\n",
    "flag = 3\n",
    "\n",
    "# Bin the TLOS DV\n",
    "los_bin=True\n",
    "treatment = True \n"
   ]
  },
  {
   "cell_type": "code",
   "execution_count": 26,
   "metadata": {},
   "outputs": [],
   "source": [
    "if(flag>0):\n",
    "    df['D_I10_1'] = df['D_I10_1'].str[:flag]\n",
    "    df['D_I10_2'] = df['D_I10_2'].str[:flag]\n",
    "    df['D_I10_3'] = df['D_I10_3'].str[:flag]\n",
    "    df['D_I10_4'] = df['D_I10_4'].str[:flag]\n",
    "    df['D_I10_5'] = df['D_I10_5'].str[:flag]\n",
    "\n",
    "    df['I_CCI_1'] = df['I_CCI_1'].str[:flag]\n",
    "    df['I_CCI_2'] = df['I_CCI_2'].str[:flag]\n",
    "    df['I_CCI_3'] = df['I_CCI_3'].str[:flag]\n",
    "    df['I_CCI_4'] = df['I_CCI_4'].str[:flag]\n",
    "    df['I_CCI_5'] = df['I_CCI_5'].str[:flag]\n",
    "    df['I_CCI_6'] = df['I_CCI_6'].str[:flag]\n",
    "    df['I_CCI_7'] = df['I_CCI_7'].str[:flag]\n",
    "    df['I_CCI_8'] = df['I_CCI_8'].str[:flag]\n",
    "    df['I_CCI_9'] = df['I_CCI_9'].str[:flag]\n",
    "    df['I_CCI_10'] = df['I_CCI_10'].str[:flag]\n",
    "\n",
    "    "
   ]
  },
  {
   "cell_type": "code",
   "execution_count": 27,
   "metadata": {},
   "outputs": [],
   "source": [
    "# Take the first five columns of morbidities. DAD has 20.\n",
    "morbidity = df[['D_I10_1', 'D_I10_2', 'D_I10_3', 'D_I10_4', 'D_I10_5']]\n",
    "\n",
    "# Take first ten columns of cci interventions. DAD has 25.\n",
    "interventions = df[['I_CCI_1', 'I_CCI_2','I_CCI_3','I_CCI_4','I_CCI_5', 'I_CCI_6', 'I_CCI_7','I_CCI_8','I_CCI_9','I_CCI_10']]\n",
    "demographics = df[['SUB_PROV', 'AGRP_F_D', 'GENDER', 'X_FR_I_T', 'ADM_CAT', 'ENT_CODE', 'X_TO_I_T', 'DIS_DISP', 'WGHT_GRP']]\n",
    "los = df[['TLOS_CAT', 'ACT_LCAT', 'ALC_LCAT']]\n"
   ]
  },
  {
   "cell_type": "code",
   "execution_count": 28,
   "metadata": {},
   "outputs": [
    {
     "name": "stderr",
     "output_type": "stream",
     "text": "/home/bell/miniconda2/envs/hephaestus-test/lib/python3.7/site-packages/ipykernel_launcher.py:2: SettingWithCopyWarning: \nA value is trying to be set on a copy of a slice from a DataFrame.\nTry using .loc[row_indexer,col_indexer] = value instead\n\nSee the caveats in the documentation: http://pandas.pydata.org/pandas-docs/stable/user_guide/indexing.html#returning-a-view-versus-a-copy\n  \n/home/bell/miniconda2/envs/hephaestus-test/lib/python3.7/site-packages/ipykernel_launcher.py:5: SettingWithCopyWarning: \nA value is trying to be set on a copy of a slice from a DataFrame.\nTry using .loc[row_indexer,col_indexer] = value instead\n\nSee the caveats in the documentation: http://pandas.pydata.org/pandas-docs/stable/user_guide/indexing.html#returning-a-view-versus-a-copy\n  \"\"\"\n/home/bell/miniconda2/envs/hephaestus-test/lib/python3.7/site-packages/ipykernel_launcher.py:6: SettingWithCopyWarning: \nA value is trying to be set on a copy of a slice from a DataFrame.\nTry using .loc[row_indexer,col_indexer] = value instead\n\nSee the caveats in the documentation: http://pandas.pydata.org/pandas-docs/stable/user_guide/indexing.html#returning-a-view-versus-a-copy\n  \n"
    }
   ],
   "source": [
    "if(los_bin):\n",
    "    los['TLOS_CAT_BIN'] = np.where(los['TLOS_CAT'] >=10, 1, 0)\n",
    "\n",
    "    # Converts the values to a list\n",
    "    morbidity['diseases']= morbidity.values.tolist()\n",
    "    interventions['treatments']=interventions.values.tolist()\n",
    "\n",
    "    mlb = MultiLabelBinarizer()\n",
    "    disease_vector = mlb.fit_transform(morbidity['diseases'].dropna())\n",
    "\n",
    "    # Column names of the dataframe are the class names of multilabel binarizer\n",
    "    disease_df = pd.DataFrame(data = disease_vector, columns=mlb.classes_)\n",
    "    treatment_vector = mlb.fit_transform(interventions['treatments'].dropna())\n",
    "    treatment_df = pd.DataFrame(data = treatment_vector, columns=mlb.classes_)\n",
    "if(treatment):\n",
    "    horizontal_stack = pd.concat([demographics, disease_df, treatment_df, los], axis=1)\n",
    "else:\n",
    "    horizontal_stack = pd.concat([demographics, disease_df, los], axis=1)"
   ]
  },
  {
   "cell_type": "code",
   "execution_count": 29,
   "metadata": {},
   "outputs": [],
   "source": [
    "# Remove the empty string and ZZZ\n",
    "if(flag>0):\n",
    "    z = 'Z' * flag\n",
    "    empty = ' ' * flag\n",
    "else:\n",
    "    z = 'ZZZZZZ'\n",
    "    empty = \"  \"\n",
    "\n",
    "horizontal_stack = horizontal_stack.drop(columns=z)\n",
    "horizontal_stack = horizontal_stack.drop(columns=empty)"
   ]
  },
  {
   "cell_type": "code",
   "execution_count": 30,
   "metadata": {},
   "outputs": [],
   "source": [
    "# Save the file\n",
    "file_name = '/home/bell/Documents/work/temp/' + \"dad-vector-\"+datetime.datetime.now().strftime(\"%Y-%m-%d_%H:%M:%S\")+\".csv\"\n",
    "horizontal_stack.to_csv(file_name)\n"
   ]
  },
  {
   "cell_type": "code",
   "execution_count": null,
   "metadata": {},
   "outputs": [],
   "source": []
  }
 ]
}