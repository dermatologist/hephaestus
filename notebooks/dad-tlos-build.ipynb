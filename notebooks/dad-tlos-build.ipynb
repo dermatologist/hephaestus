{
 "nbformat": 4,
 "nbformat_minor": 2,
 "metadata": {
  "language_info": {
   "name": "python",
   "codemirror_mode": {
    "name": "ipython",
    "version": 3
   },
   "version": "3.6.9"
  },
  "orig_nbformat": 2,
  "file_extension": ".py",
  "mimetype": "text/x-python",
  "name": "python",
  "npconvert_exporter": "python",
  "pygments_lexer": "ipython3",
  "version": 3
 },
 "cells": [
  {
   "cell_type": "code",
   "execution_count": 1,
   "metadata": {},
   "outputs": [
    {
     "name": "stdout",
     "output_type": "stream",
     "text": "3.26.0.8\nChecking whether there is an H2O instance running at http://localhost:54321..... not found.\nAttempting to start a local H2O server...\n  Java Version: java version \"1.8.0_221\"; Java(TM) SE Runtime Environment (build 1.8.0_221-b11); Java HotSpot(TM) 64-Bit Server VM (build 25.221-b11, mixed mode)\n  Starting server from /home/bell/miniconda2/envs/h2o/lib/python3.6/site-packages/h2o/backend/bin/h2o.jar\n  Ice root: /tmp/tmpwys1ka60\n  JVM stdout: /tmp/tmpwys1ka60/h2o_bell_started_from_python.out\n  JVM stderr: /tmp/tmpwys1ka60/h2o_bell_started_from_python.err\n  Server is running at http://127.0.0.1:54321\nConnecting to H2O server at http://127.0.0.1:54321 ... successful.\nParse progress: |█████████████████████████████████████████████████████████| 100%\n(205374, 2103)\n['C1', 'SUB_PROV', 'AGRP_F_D', 'GENDER', 'X_FR_I_T', 'ADM_CAT', 'ENT_CODE', 'X_TO_I_T', 'DIS_DISP', 'WGHT_GRP', 'A01', 'A02', 'A03', 'A04', 'A05', 'A07', 'A08', 'A09', 'A15', 'A16', 'A17', 'A18', 'A19', 'A21', 'A27', 'A28', 'A31', 'A32', 'A37', 'A38', 'A39', 'A40', 'A41', 'A42', 'A43', 'A44', 'A46', 'A48', 'A49', 'A51', 'A52', 'A53', 'A54', 'A55', 'A56', 'A59', 'A60', 'A63', 'A66', 'A68', 'A69', 'A70', 'A74', 'A78', 'A80', 'A81', 'A85', 'A86', 'A87', 'A90', 'A92', 'A93', 'B00', 'B01', 'B02', 'B05', 'B07', 'B08', 'B09', 'B15', 'B16', 'B17', 'B18', 'B19', 'B24', 'B25', 'B26', 'B27', 'B30', 'B33', 'B34', 'B35', 'B36', 'B37', 'B38', 'B39', 'B40', 'B44', 'B45', 'B46', 'B47', 'B48', 'B49', 'B50', 'B51', 'B53', 'B54', 'B58', 'B59', 'B67', 'B69', 'B71', 'B80', 'B82', 'B83', 'B85', 'B86', 'B87', 'B88', 'B95', 'B96', 'B99', 'C00', 'C01', 'C02', 'C03', 'C04', 'C05', 'C06', 'C07', 'C08', 'C09', 'C10', 'C11', 'C12', 'C13', 'C14', 'C15', 'C16', 'C17', 'C18', 'C19', 'C20', 'C21', 'C22', 'C23', 'C24', 'C25', 'C26', 'C30', 'C31', 'C32', 'C33', 'C34', 'C37', 'C38', 'C40', 'C41', 'C43', 'C44', 'C45', 'C46', 'C47', 'C48', 'C49', 'C50', 'C51', 'C52', 'C53', 'C54', 'C55', 'C56', 'C57', 'C58', 'C60', 'C61', 'C62', 'C64', 'C65', 'C66', 'C67', 'C68', 'C69', 'C70', 'C71', 'C72', 'C73', 'C74', 'C75', 'C76', 'C77', 'C78', 'C79', 'C80', 'C81', 'C82', 'C83', 'C84', 'C85', 'C86', 'C88', 'C90', 'C91', 'C92', 'C93', 'C94', 'C95', 'C96', 'D00', 'D01', 'D02', 'D03', 'D04', 'D05', 'D06', 'D07', 'D09', 'D10', 'D11', 'D12', 'D13', 'D14', 'D15', 'D16', 'D17', 'D18', 'D19', 'D20', 'D21', 'D22', 'D23', 'D24', 'D25', 'D26', 'D27', 'D28', 'D29', 'D30', 'D31', 'D32', 'D33', 'D34', 'D35', 'D36', 'D37', 'D38', 'D39', 'D40', 'D41', 'D42', 'D43', 'D44', 'D45', 'D46', 'D47', 'D48', 'D50', 'D51', 'D52', 'D53', 'D55', 'D56', 'D57', 'D58', 'D59', 'D60', 'D61', 'D62', 'D63', 'D64', 'D65', 'D66', 'D67', 'D68', 'D69', 'D70', 'D71', 'D72', 'D73', 'D74', 'D75', 'D76', 'D80', 'D81', 'D82', 'D84', 'D86', 'D89', 'E02', 'E03', 'E04', 'E05', 'E06', 'E07', 'E10', 'E11', 'E13', 'E14', 'E15', 'E16', 'E20', 'E21', 'E22', 'E23', 'E24', 'E25', 'E26', 'E27', 'E28', 'E29', 'E30', 'E32', 'E34', 'E41', 'E43', 'E44', 'E45', 'E46', 'E51', 'E53', 'E55', 'E56', 'E58', 'E59', 'E61', 'E63', 'E65', 'E66', 'E67', 'E70', 'E71', 'E72', 'E73', 'E74', 'E75', 'E76', 'E77', 'E78', 'E79', 'E80', 'E83', 'E84', 'E85', 'E86', 'E87', 'E88', 'E89', 'E90', 'F00', 'F01', 'F02', 'F03', 'F05', 'F06', 'F07', 'F09', 'F10', 'F11', 'F12', 'F13', 'F14', 'F15', 'F16', 'F17', 'F18', 'F19', 'F20', 'F21', 'F22', 'F23', 'F24', 'F25', 'F28', 'F29', 'F30', 'F31', 'F32', 'F33', 'F34', 'F38', 'F39', 'F40', 'F41', 'F42', 'F43', 'F44', 'F45', 'F50', 'F51', 'F52', 'F53', 'F55', 'F59', 'F60', 'F61', 'F62', 'F63', 'F64', 'F65', 'F68', 'F69', 'F70', 'F71', 'F72', 'F78', 'F79', 'F80', 'F81', 'F82', 'F84', 'F88', 'F89', 'F90', 'F91', 'F92', 'F93', 'F94', 'F95', 'F98', 'F99', 'G00', 'G02', 'G03', 'G04', 'G05', 'G06', 'G08', 'G10', 'G11', 'G12', 'G13', 'G14', 'G20', 'G21', 'G23', 'G24', 'G25', 'G30', 'G31', 'G32', 'G35', 'G36', 'G37', 'G40', 'G41', 'G43', 'G44', 'G45', 'G46', 'G47', 'G50', 'G51', 'G52', 'G53', 'G54', 'G55', 'G56', 'G57', 'G58', 'G59', 'G60', 'G61', 'G62', 'G63', 'G70', 'G71', 'G72', 'G73', 'G80', 'G81', 'G82', 'G83', 'G90', 'G91', 'G92', 'G93', 'G94', 'G95', 'G96', 'G97', 'G98', 'G99', 'H00', 'H01', 'H02', 'H03', 'H04', 'H05', 'H06', 'H10', 'H11', 'H13', 'H15', 'H16', 'H17', 'H18', 'H19', 'H20', 'H21', 'H22', 'H25', 'H26', 'H27', 'H30', 'H31', 'H33', 'H34', 'H35', 'H36', 'H40', 'H42', 'H43', 'H44', 'H46', 'H47', 'H49', 'H50', 'H51', 'H52', 'H53', 'H54', 'H55', 'H57', 'H58', 'H59', 'H60', 'H61', 'H65', 'H66', 'H68', 'H69', 'H70', 'H71', 'H72', 'H73', 'H74', 'H80', 'H81', 'H83', 'H90', 'H91', 'H92', 'H93', 'H95', 'I00', 'I01', 'I02', 'I05', 'I06', 'I07', 'I08', 'I09', 'I10', 'I11', 'I12', 'I13', 'I15', 'I20', 'I21', 'I22', 'I23', 'I24', 'I25', 'I26', 'I27', 'I28', 'I30', 'I31', 'I32', 'I33', 'I34', 'I35', 'I36', 'I37', 'I38', 'I40', 'I41', 'I42', 'I43', 'I44', 'I45', 'I46', 'I47', 'I48', 'I49', 'I50', 'I51', 'I52', 'I60', 'I61', 'I62', 'I63', 'I64', 'I65', 'I66', 'I67', 'I68', 'I70', 'I71', 'I72', 'I73', 'I74', 'I77', 'I78', 'I79', 'I80', 'I81', 'I82', 'I83', 'I85', 'I86', 'I87', 'I88', 'I89', 'I95', 'I97', 'I98', 'I99', 'J00', 'J01', 'J02', 'J03', 'J04', 'J05', 'J06', 'J09', 'J10', 'J11', 'J12', 'J13', 'J14', 'J15', 'J16', 'J17', 'J18', 'J20', 'J21', 'J22', 'J30', 'J31', 'J32', 'J33', 'J34', 'J35', 'J36', 'J37', 'J38', 'J39', 'J40', 'J41', 'J42', 'J43', 'J44', 'J45', 'J47', 'J60', 'J61', 'J62', 'J67', 'J68', 'J69', 'J70', 'J80', 'J81', 'J82', 'J84', 'J85', 'J86', 'J90', 'J91', 'J92', 'J93', 'J94', 'J95', 'J96', 'J98', 'J99', 'K00', 'K01', 'K02', 'K03', 'K04', 'K05', 'K06', 'K07', 'K08', 'K09', 'K10', 'K11', 'K12', 'K13', 'K14', 'K20', 'K21', 'K22', 'K23', 'K25', 'K26', 'K27', 'K28', 'K29', 'K30', 'K31', 'K35', 'K36', 'K37', 'K38', 'K40', 'K41', 'K42', 'K43', 'K44', 'K45', 'K46', 'K50', 'K51', 'K52', 'K55', 'K56', 'K57', 'K58', 'K59', 'K60', 'K61', 'K62', 'K63', 'K64', 'K65', 'K66', 'K70', 'K71', 'K72', 'K73', 'K74', 'K75', 'K76', 'K77', 'K80', 'K81', 'K82', 'K83', 'K85', 'K86', 'K90', 'K91', 'K92', 'K93', 'L00', 'L01', 'L02', 'L03', 'L04', 'L05', 'L08', 'L10', 'L11', 'L12', 'L14', 'L20', 'L21', 'L22', 'L23', 'L24', 'L25', 'L26', 'L27', 'L28', 'L29', 'L30', 'L40', 'L41', 'L43', 'L50', 'L51', 'L52', 'L53', 'L56', 'L57', 'L58', 'L59', 'L60', 'L65', 'L66', 'L70', 'L71', 'L72', 'L73', 'L74', 'L80', 'L81', 'L82', 'L83', 'L84', 'L85', 'L88', 'L89', 'L90', 'L91', 'L92', 'L93', 'L94', 'L95', 'L97', 'L98', 'L99', 'M00', 'M01', 'M02', 'M05', 'M06', 'M07', 'M08', 'M10', 'M11', 'M12', 'M13', 'M14', 'M15', 'M16', 'M17', 'M18', 'M19', 'M20', 'M21', 'M22', 'M23', 'M24', 'M25', 'M30', 'M31', 'M32', 'M33', 'M34', 'M35', 'M36', 'M40', 'M41', 'M42', 'M43', 'M45', 'M46', 'M47', 'M48', 'M49', 'M50', 'M51', 'M53', 'M54', 'M60', 'M61', 'M62', 'M63', 'M65', 'M66', 'M67', 'M70', 'M71', 'M72', 'M75', 'M76', 'M77', 'M79', 'M80', 'M81', 'M82', 'M83', 'M84', 'M85', 'M86', 'M87', 'M88', 'M89', 'M90', 'M91', 'M92', 'M93', 'M94', 'M95', 'M96', 'M99', 'N00', 'N01', 'N02', 'N03', 'N04', 'N05', 'N06', 'N08', 'N10', 'N11', 'N12', 'N13', 'N14', 'N15', 'N16', 'N17', 'N18', 'N19', 'N20', 'N21', 'N22', 'N23', 'N25', 'N26', 'N27', 'N28', 'N29', 'N30', 'N31', 'N32', 'N34', 'N35', 'N36', 'N39', 'N40', 'N41', 'N42', 'N43', 'N44', 'N45', 'N47', 'N48', 'N49', 'N50', 'N60', 'N61', 'N62', 'N63', 'N64', 'N70', 'N71', 'N72', 'N73', 'N74', 'N75', 'N76', 'N77', 'N80', 'N81', 'N82', 'N83', 'N84', 'N85', 'N86', 'N87', 'N88', 'N89', 'N90', 'N91', 'N92', 'N93', 'N94', 'N95', 'N97', 'N98', 'N99', 'O00', 'O01', 'O02', 'O03', 'O05', 'O08', 'O10', 'O11', 'O12', 'O13', 'O14', 'O15', 'O16', 'O20', 'O21', 'O22', 'O23', 'O24', 'O25', 'O26', 'O28', 'O29', 'O30', 'O31', 'O32', 'O33', 'O34', 'O35', 'O36', 'O37', 'O40', 'O41', 'O42', 'O43', 'O44', 'O45', 'O46', 'O47', 'O48', 'O60', 'O61', 'O62', 'O63', 'O64', 'O65', 'O66', 'O67', 'O68', 'O69', 'O70', 'O71', 'O72', 'O73', 'O74', 'O75', 'O85', 'O86', 'O87', 'O88', 'O89', 'O90', 'O91', 'O92', 'O98', 'O99', 'P00', 'P01', 'P02', 'P03', 'P04', 'P05', 'P07', 'P08', 'P10', 'P11', 'P12', 'P13', 'P14', 'P15', 'P20', 'P21', 'P22', 'P23', 'P24', 'P25', 'P26', 'P27', 'P28', 'P29', 'P35', 'P36', 'P37', 'P38', 'P39', 'P50', 'P52', 'P54', 'P55', 'P57', 'P58', 'P59', 'P60', 'P61', 'P70', 'P71', 'P72', 'P74', 'P76', 'P77', 'P78', 'P80', 'P81', 'P83', 'P90', 'P91', 'P92', 'P94', 'P96', 'Q00', 'Q01', 'Q02', 'Q03', 'Q04', 'Q05', 'Q06', 'Q07', 'Q10', 'Q11', 'Q12', 'Q13', 'Q15', 'Q16', 'Q17', 'Q18', 'Q20', 'Q21', 'Q22', 'Q23', 'Q24', 'Q25', 'Q26', 'Q27', 'Q28', 'Q30', 'Q31', 'Q32', 'Q33', 'Q34', 'Q35', 'Q36', 'Q37', 'Q38', 'Q39', 'Q40', 'Q41', 'Q42', 'Q43', 'Q44', 'Q45', 'Q50', 'Q51', 'Q52', 'Q53', 'Q54', 'Q55', 'Q56', 'Q60', 'Q61', 'Q62', 'Q63', 'Q64', 'Q65', 'Q66', 'Q67', 'Q68', 'Q69', 'Q70', 'Q71', 'Q72', 'Q74', 'Q75', 'Q76', 'Q77', 'Q78', 'Q79', 'Q81', 'Q82', 'Q83', 'Q84', 'Q85', 'Q86', 'Q87', 'Q89', 'Q90', 'Q91', 'Q92', 'Q93', 'Q95', 'Q96', 'Q98', 'Q99', 'R00', 'R01', 'R02', 'R03', 'R04', 'R05', 'R06', 'R07', 'R09', 'R10', 'R11', 'R12', 'R13', 'R14', 'R15', 'R16', 'R17', 'R18', 'R19', 'R20', 'R21', 'R22', 'R23', 'R25', 'R26', 'R27', 'R29', 'R30', 'R31', 'R32', 'R33', 'R34', 'R35', 'R39', 'R40', 'R41', 'R42', 'R43', 'R44', 'R45', 'R46', 'R47', 'R48', 'R49', 'R50', 'R51', 'R52', 'R53', 'R54', 'R55', 'R56', 'R57', 'R58', 'R59', 'R60', 'R61', 'R62', 'R63', 'R64', 'R65', 'R68', 'R69', 'R70', 'R71', 'R72', 'R73', 'R74', 'R76', 'R77', 'R78', 'R79', 'R80', 'R82', 'R83', 'R84', 'R87', 'R89', 'R90', 'R91', 'R92', 'R93', 'R94', 'R95', 'R99', 'S00', 'S01', 'S02', 'S03', 'S04', 'S05', 'S06', 'S08', 'S09', 'S10', 'S11', 'S12', 'S13', 'S14', 'S15', 'S16', 'S19', 'S20', 'S21', 'S22', 'S23', 'S24', 'S25', 'S26', 'S27', 'S28', 'S29', 'S30', 'S31', 'S32', 'S33', 'S34', 'S35', 'S36', 'S37', 'S38', 'S39', 'S40', 'S41', 'S42', 'S43', 'S44', 'S45', 'S46', 'S47', 'S48', 'S49', 'S50', 'S51', 'S52', 'S53', 'S54', 'S55', 'S56', 'S57', 'S58', 'S59', 'S60', 'S61', 'S62', 'S63', 'S64', 'S65', 'S66', 'S67', 'S68', 'S69', 'S70', 'S71', 'S72', 'S73', 'S74', 'S75', 'S76', 'S77', 'S79', 'S80', 'S81', 'S82', 'S83', 'S84', 'S85', 'S86', 'S87', 'S88', 'S89', 'S90', 'S91', 'S92', 'S93', 'S94', 'S95', 'S96', 'S97', 'S98', 'S99', 'T00', 'T01', 'T02', 'T03', 'T04', 'T06', 'T07', 'T08', 'T09', 'T11', 'T13', 'T14', 'T15', 'T16', 'T17', 'T18', 'T19', 'T20', 'T21', 'T22', 'T23', 'T24', 'T25', 'T26', 'T27', 'T28', 'T29', 'T30', 'T31', 'T32', 'T33', 'T34', 'T35', 'T36', 'T37', 'T38', 'T39', 'T40', 'T41', 'T42', 'T43', 'T44', 'T45', 'T46', 'T47', 'T48', 'T49', 'T50', 'T51', 'T52', 'T53', 'T54', 'T55', 'T56', 'T57', 'T58', 'T59', 'T60', 'T61', 'T62', 'T63', 'T65', 'T66', 'T67', 'T68', 'T69', 'T70', 'T71', 'T73', 'T74', 'T75', 'T78', 'T79', 'T80', 'T81', 'T82', 'T83', 'T84', 'T85', 'T86', 'T87', 'T88', 'U82', 'U83', 'U84', 'U85', 'Z00', 'Z01', 'Z02', 'Z03', 'Z04', 'Z08', 'Z09', 'Z11', 'Z12', 'Z13', 'Z20', 'Z21', 'Z22', 'Z23', 'Z24', 'Z25', 'Z26', 'Z27', 'Z28', 'Z29', 'Z30', 'Z31', 'Z32', 'Z33', 'Z34', 'Z35', 'Z37', 'Z38', 'Z39', 'Z40', 'Z41', 'Z42', 'Z43', 'Z44', 'Z45', 'Z46', 'Z47', 'Z48', 'Z49', 'Z50', 'Z51', 'Z52', 'Z53', 'Z54', 'Z55', 'Z56', 'Z58', 'Z59', 'Z60', 'Z61', 'Z62', 'Z63', 'Z65', 'Z71', 'Z72', 'Z73', 'Z74', 'Z75', 'Z76', 'Z81', 'Z82', 'Z83', 'Z84', 'Z87', 'Z89', 'Z91', 'Z92', 'Z93', 'Z94', 'Z95', 'Z96', 'Z98', 'Z99', '1AA', '1AB', '1AC', '1AE', '1AF', '1AG', '1AJ', '1AK', '1AN', '1AP', '1AW', '1AX', '1BA', '1BB', '1BD', '1BF', '1BG', '1BJ', '1BK', '1BM', '1BN', '1BP', '1BQ', '1BS', '1BT', '1BX', '1CC', '1CD', '1CE', '1CF', '1CG', '1CH', '1CJ', '1CL', '1CM', '1CN', '1CP', '1CQ', '1CR', '1CS', '1CU', '1CV', '1CX', '1CZ', '1DA', '1DE', '1DF', '1DG', '1DJ', '1DK', '1DL', '1DM', '1DN', '1DR', '1DZ', '1EA', '1EB', '1EC', '1ED', '1EE', '1EF', '1EG', '1EH', '1EL', '1EM', '1EN', '1EP', '1EQ', '1ES', '1ET', '1EU', '1EV', '1EW', '1EX', '1EY', '1FA', '1FB', '1FC', '1FD', '1FE', '1FF', '1FG', '1FH', '1FJ', '1FL', '1FM', '1FN', '1FP', '1FQ', '1FR', '1FT', '1FU', '1FV', '1FX', '1GA', '1GB', '1GC', '1GD', '1GE', '1GH', '1GJ', '1GK', '1GM', '1GR', '1GT', '1GV', '1GW', '1GX', '1GY', '1GZ', '1HA', '1HB', '1HD', '1HH', '1HJ', '1HM', '1HN', '1HP', '1HR', '1HS', '1HT', '1HU', '1HV', '1HW', '1HX', '1HY', '1HZ', '1IA', '1IB', '1IC', '1ID', '1IF', '1IJ', '1IK', '1IL', '1IM', '1IN', '1IS', '1JD', '1JE', '1JJ', '1JK', '1JL', '1JM', '1JQ', '1JT', '1JU', '1JW', '1JX', '1JY', '1KA', '1KE', '1KG', '1KQ', '1KR', '1KT', '1KV', '1KX', '1KY', '1KZ', '1LA', '1LC', '1LD', '1LZ', '1MA', '1MC', '1MD', '1ME', '1MF', '1MG', '1MH', '1MJ', '1MK', '1ML', '1MM', '1MN', '1MP', '1MR', '1MS', '1MZ', '1NA', '1NE', '1NF', '1NK', '1NM', '1NP', '1NQ', '1NT', '1NV', '1OA', '1OB', '1OD', '1OE', '1OJ', '1OK', '1OT', '1OW', '1OZ', '1PB', '1PC', '1PE', '1PG', '1PL', '1PM', '1PQ', '1PV', '1PZ', '1QD', '1QE', '1QG', '1QH', '1QJ', '1QM', '1QN', '1QP', '1QQ', '1QT', '1RB', '1RD', '1RF', '1RM', '1RN', '1RS', '1RW', '1RY', '1SA', '1SC', '1SE', '1SF', '1SG', '1SH', '1SI', '1SK', '1SL', '1SM', '1SN', '1SQ', '1SW', '1SY', '1SZ', '1TA', '1TB', '1TC', '1TF', '1TH', '1TK', '1TM', '1TQ', '1TS', '1TV', '1TX', '1TZ', '1UB', '1UC', '1UE', '1UF', '1UG', '1UH', '1UI', '1UJ', '1UK', '1UL', '1UM', '1US', '1UT', '1UU', '1UV', '1UY', '1VA', '1VC', '1VD', '1VE', '1VG', '1VK', '1VL', '1VM', '1VN', '1VP', '1VQ', '1VR', '1VS', '1VX', '1VZ', '1WA', '1WB', '1WE', '1WG', '1WI', '1WJ', '1WK', '1WL', '1WM', '1WN', '1WT', '1WV', '1WY', '1WZ', '1YA', '1YB', '1YC', '1YD', '1YE', '1YF', '1YG', '1YK', '1YM', '1YR', '1YS', '1YT', '1YU', '1YV', '1YW', '1YX', '1YY', '1YZ', '1ZX', '1ZZ', '2AA', '2AC', '2AE', '2AF', '2AG', '2AJ', '2AN', '2AP', '2AW', '2AX', '2AZ', '2BA', '2BB', '2BG', '2BL', '2BP', '2BR', '2BS', '2BT', '2BU', '2BX', '2CJ', '2CM', '2CP', '2CU', '2CX', '2CZ', '2DE', '2DK', '2DZ', '2EA', '2ED', '2EE', '2EL', '2EN', '2EQ', '2ET', '2EY', '2FA', '2FB', '2FC', '2FG', '2FH', '2FJ', '2FK', '2FP', '2FQ', '2FR', '2FU', '2FV', '2FX', '2GE', '2GJ', '2GM', '2GT', '2GV', '2GW', '2GX', '2GY', '2GZ', '2HZ', '2IJ', '2IL', '2IM', '2JE', '2JX', '2JY', '2JZ', '2KE', '2KG', '2KQ', '2KT', '2LZ', '2MA', '2MC', '2MD', '2ME', '2MF', '2MG', '2MH', '2MJ', '2MK', '2MZ', '2NA', '2NF', '2NK', '2NM', '2NQ', '2NT', '2OA', '2OB', '2OD', '2OE', '2OJ', '2OT', '2OW', '2PB', '2PC', '2PE', '2PG', '2PM', '2PQ', '2PV', '2QE', '2QG', '2QM', '2QT', '2RB', '2RF', '2RM', '2RN', '2RS', '2RW', '2RY', '2RZ', '2SC', '2SE', '2SF', '2SG', '2SH', '2SK', '2SL', '2SM', '2SQ', '2SZ', '2TA', '2TK', '2TM', '2TV', '2TX', '2TZ', '2UB', '2UJ', '2UY', '2VA', '2VC', '2VG', '2VQ', '2VX', '2VZ', '2WA', '2WH', '2WL', '2WQ', '2WS', '2WV', '2WY', '2YA', '2YB', '2YC', '2YD', '2YE', '2YF', '2YG', '2YM', '2YR', '2YS', '2YT', '2YU', '2YV', '2YW', '2ZZ', '3AF', '3AN', '3AW', '3CA', '3CZ', '3DR', '3DZ', '3EA', '3ED', '3EI', '3EL', '3EQ', '3ER', '3ET', '3EY', '3FE', '3FU', '3FV', '3FX', '3FY', '3GE', '3GT', '3GY', '3HZ', '3ID', '3IJ', '3IK', '3IM', '3IN', '3IP', '3IS', '3JE', '3JL', '3JM', '3JQ', '3JS', '3JU', '3JW', '3JX', '3JY', '3KC', '3KE', '3KG', '3KK', '3KL', '3KQ', '3KR', '3KT', '3KV', '3KX', '3KY', '3LZ', '3MZ', '3NA', '3NK', '3NL', '3NM', '3NQ', '3NZ', '3OA', '3OD', '3OE', '3OG', '3OJ', '3OT', '3OZ', '3PC', '3PH', '3PM', '3PQ', '3PS', '3PZ', '3QG', '3QT', '3RZ', '3SC', '3SE', '3SF', '3SH', '3SL', '3SM', '3SQ', '3TA', '3TK', '3TM', '3TV', '3TZ', '3UB', '3UL', '3UZ', '3VA', '3VC', '3VG', '3VQ', '3VZ', '3WA', '3WG', '3WY', '3WZ', '3YM', '3YN', '3YZ', '3ZZ', '5AB', '5AC', '5CA', '5FD', '5FH', '5FJ', '5FM', '5LC', '5LD', '5MD', '5PB', '5PC', '5PD', '6AA', '6VA', '7SC', '7SF', '7SJ', '7SP', '8HE', '8IN', '8MK', '8MM', '8MU', '8MV', '8NZ', '8RA', '8RB', '8RC', '8TB', '8ZZ', 'TLOS_CAT', 'ACT_LCAT', 'ALC_LCAT', 'TLOS_CAT_BIN']\nSize of training set: 205374 rows and 2103 columns\nAutoML progress: |█████ (cancelled)\n"
    },
    {
     "data": {
      "text/html": "<div style=\"overflow:auto\"><table style=\"width:50%\"><tr><td>H2O cluster uptime:</td>\n<td>01 secs</td></tr>\n<tr><td>H2O cluster timezone:</td>\n<td>America/New_York</td></tr>\n<tr><td>H2O data parsing timezone:</td>\n<td>UTC</td></tr>\n<tr><td>H2O cluster version:</td>\n<td>3.26.0.8</td></tr>\n<tr><td>H2O cluster version age:</td>\n<td>1 month and 8 days </td></tr>\n<tr><td>H2O cluster name:</td>\n<td>H2O_from_python_bell_qlr25a</td></tr>\n<tr><td>H2O cluster total nodes:</td>\n<td>1</td></tr>\n<tr><td>H2O cluster free memory:</td>\n<td>56.89 Gb</td></tr>\n<tr><td>H2O cluster total cores:</td>\n<td>40</td></tr>\n<tr><td>H2O cluster allowed cores:</td>\n<td>40</td></tr>\n<tr><td>H2O cluster status:</td>\n<td>accepting new members, healthy</td></tr>\n<tr><td>H2O connection url:</td>\n<td>http://127.0.0.1:54321</td></tr>\n<tr><td>H2O connection proxy:</td>\n<td>{'http': None, 'https': None}</td></tr>\n<tr><td>H2O internal security:</td>\n<td>False</td></tr>\n<tr><td>H2O API Extensions:</td>\n<td>Amazon S3, XGBoost, Algos, AutoML, Core V3, TargetEncoder, Core V4</td></tr>\n<tr><td>Python version:</td>\n<td>3.6.9 final</td></tr></table></div>",
      "text/plain": "--------------------------  ------------------------------------------------------------------\nH2O cluster uptime:         01 secs\nH2O cluster timezone:       America/New_York\nH2O data parsing timezone:  UTC\nH2O cluster version:        3.26.0.8\nH2O cluster version age:    1 month and 8 days\nH2O cluster name:           H2O_from_python_bell_qlr25a\nH2O cluster total nodes:    1\nH2O cluster free memory:    56.89 Gb\nH2O cluster total cores:    40\nH2O cluster allowed cores:  40\nH2O cluster status:         accepting new members, healthy\nH2O connection url:         http://127.0.0.1:54321\nH2O connection proxy:       {'http': None, 'https': None}\nH2O internal security:      False\nH2O API Extensions:         Amazon S3, XGBoost, Algos, AutoML, Core V3, TargetEncoder, Core V4\nPython version:             3.6.9 final\n--------------------------  ------------------------------------------------------------------"
     },
     "metadata": {},
     "output_type": "display_data"
    },
    {
     "ename": "H2OJobCancelled",
     "evalue": "Job<$03017f00000132d4ffffffff$_81652de32ab44e4d4232f085062442ac> was cancelled by the user.",
     "output_type": "error",
     "traceback": [
      "\u001b[0;31m---------------------------------------------------------------------------\u001b[0m",
      "\u001b[0;31mH2OJobCancelled\u001b[0m                           Traceback (most recent call last)",
      "\u001b[0;32m<ipython-input-1-dfe2f4ddbade>\u001b[0m in \u001b[0;36m<module>\u001b[0;34m\u001b[0m\n\u001b[1;32m     42\u001b[0m \u001b[0;34m\u001b[0m\u001b[0m\n\u001b[1;32m     43\u001b[0m \u001b[0maml\u001b[0m\u001b[0;34m=\u001b[0m\u001b[0mH2OAutoML\u001b[0m\u001b[0;34m(\u001b[0m\u001b[0mmax_models\u001b[0m\u001b[0;34m=\u001b[0m\u001b[0;36m10\u001b[0m\u001b[0;34m,\u001b[0m \u001b[0mseed\u001b[0m\u001b[0;34m=\u001b[0m\u001b[0;36m1\u001b[0m\u001b[0;34m)\u001b[0m\u001b[0;34m\u001b[0m\u001b[0;34m\u001b[0m\u001b[0m\n\u001b[0;32m---> 44\u001b[0;31m \u001b[0maml\u001b[0m\u001b[0;34m.\u001b[0m\u001b[0mtrain\u001b[0m\u001b[0;34m(\u001b[0m\u001b[0mx\u001b[0m\u001b[0;34m=\u001b[0m\u001b[0mx\u001b[0m\u001b[0;34m,\u001b[0m\u001b[0my\u001b[0m\u001b[0;34m=\u001b[0m\u001b[0my\u001b[0m\u001b[0;34m,\u001b[0m \u001b[0mtraining_frame\u001b[0m\u001b[0;34m=\u001b[0m\u001b[0mtrain\u001b[0m\u001b[0;34m)\u001b[0m\u001b[0;34m\u001b[0m\u001b[0;34m\u001b[0m\u001b[0m\n\u001b[0m\u001b[1;32m     45\u001b[0m \u001b[0mlb\u001b[0m\u001b[0;34m=\u001b[0m\u001b[0maml\u001b[0m\u001b[0;34m.\u001b[0m\u001b[0mleaderboard\u001b[0m\u001b[0;34m\u001b[0m\u001b[0;34m\u001b[0m\u001b[0m\n\u001b[1;32m     46\u001b[0m \u001b[0mprint\u001b[0m\u001b[0;34m(\u001b[0m\u001b[0mlb\u001b[0m\u001b[0;34m)\u001b[0m\u001b[0;34m\u001b[0m\u001b[0;34m\u001b[0m\u001b[0m\n",
      "\u001b[0;32m~/miniconda2/envs/h2o/lib/python3.6/site-packages/h2o/automl/autoh2o.py\u001b[0m in \u001b[0;36mtrain\u001b[0;34m(self, x, y, training_frame, fold_column, weights_column, validation_frame, leaderboard_frame, blending_frame)\u001b[0m\n\u001b[1;32m    443\u001b[0m         \u001b[0mpoll_updates\u001b[0m \u001b[0;34m=\u001b[0m \u001b[0mft\u001b[0m\u001b[0;34m.\u001b[0m\u001b[0mpartial\u001b[0m\u001b[0;34m(\u001b[0m\u001b[0mself\u001b[0m\u001b[0;34m.\u001b[0m\u001b[0m_poll_training_updates\u001b[0m\u001b[0;34m,\u001b[0m \u001b[0mverbosity\u001b[0m\u001b[0;34m=\u001b[0m\u001b[0mself\u001b[0m\u001b[0;34m.\u001b[0m\u001b[0m_verbosity\u001b[0m\u001b[0;34m,\u001b[0m \u001b[0mstate\u001b[0m\u001b[0;34m=\u001b[0m\u001b[0;34m{\u001b[0m\u001b[0;34m}\u001b[0m\u001b[0;34m)\u001b[0m\u001b[0;34m\u001b[0m\u001b[0;34m\u001b[0m\u001b[0m\n\u001b[1;32m    444\u001b[0m         \u001b[0;32mtry\u001b[0m\u001b[0;34m:\u001b[0m\u001b[0;34m\u001b[0m\u001b[0;34m\u001b[0m\u001b[0m\n\u001b[0;32m--> 445\u001b[0;31m             \u001b[0mself\u001b[0m\u001b[0;34m.\u001b[0m\u001b[0m_job\u001b[0m\u001b[0;34m.\u001b[0m\u001b[0mpoll\u001b[0m\u001b[0;34m(\u001b[0m\u001b[0mpoll_updates\u001b[0m\u001b[0;34m=\u001b[0m\u001b[0mpoll_updates\u001b[0m\u001b[0;34m)\u001b[0m\u001b[0;34m\u001b[0m\u001b[0;34m\u001b[0m\u001b[0m\n\u001b[0m\u001b[1;32m    446\u001b[0m         \u001b[0;32mfinally\u001b[0m\u001b[0;34m:\u001b[0m\u001b[0;34m\u001b[0m\u001b[0;34m\u001b[0m\u001b[0m\n\u001b[1;32m    447\u001b[0m             \u001b[0mpoll_updates\u001b[0m\u001b[0;34m(\u001b[0m\u001b[0mself\u001b[0m\u001b[0;34m.\u001b[0m\u001b[0m_job\u001b[0m\u001b[0;34m,\u001b[0m \u001b[0;36m1\u001b[0m\u001b[0;34m)\u001b[0m\u001b[0;34m\u001b[0m\u001b[0;34m\u001b[0m\u001b[0m\n",
      "\u001b[0;32m~/miniconda2/envs/h2o/lib/python3.6/site-packages/h2o/job.py\u001b[0m in \u001b[0;36mpoll\u001b[0;34m(self, poll_updates)\u001b[0m\n\u001b[1;32m     72\u001b[0m         \u001b[0;31m# check if failed... and politely print relevant message\u001b[0m\u001b[0;34m\u001b[0m\u001b[0;34m\u001b[0m\u001b[0;34m\u001b[0m\u001b[0m\n\u001b[1;32m     73\u001b[0m         \u001b[0;32mif\u001b[0m \u001b[0mself\u001b[0m\u001b[0;34m.\u001b[0m\u001b[0mstatus\u001b[0m \u001b[0;34m==\u001b[0m \u001b[0;34m\"CANCELLED\"\u001b[0m\u001b[0;34m:\u001b[0m\u001b[0;34m\u001b[0m\u001b[0;34m\u001b[0m\u001b[0m\n\u001b[0;32m---> 74\u001b[0;31m             \u001b[0;32mraise\u001b[0m \u001b[0mH2OJobCancelled\u001b[0m\u001b[0;34m(\u001b[0m\u001b[0;34m\"Job<%s> was cancelled by the user.\"\u001b[0m \u001b[0;34m%\u001b[0m \u001b[0mself\u001b[0m\u001b[0;34m.\u001b[0m\u001b[0mjob_key\u001b[0m\u001b[0;34m)\u001b[0m\u001b[0;34m\u001b[0m\u001b[0;34m\u001b[0m\u001b[0m\n\u001b[0m\u001b[1;32m     75\u001b[0m         \u001b[0;32mif\u001b[0m \u001b[0mself\u001b[0m\u001b[0;34m.\u001b[0m\u001b[0mstatus\u001b[0m \u001b[0;34m==\u001b[0m \u001b[0;34m\"FAILED\"\u001b[0m\u001b[0;34m:\u001b[0m\u001b[0;34m\u001b[0m\u001b[0;34m\u001b[0m\u001b[0m\n\u001b[1;32m     76\u001b[0m             \u001b[0;32mif\u001b[0m \u001b[0;34m(\u001b[0m\u001b[0misinstance\u001b[0m\u001b[0;34m(\u001b[0m\u001b[0mself\u001b[0m\u001b[0;34m.\u001b[0m\u001b[0mjob\u001b[0m\u001b[0;34m,\u001b[0m \u001b[0mdict\u001b[0m\u001b[0;34m)\u001b[0m\u001b[0;34m)\u001b[0m \u001b[0;32mand\u001b[0m \u001b[0;34m(\u001b[0m\u001b[0;34m\"stacktrace\"\u001b[0m \u001b[0;32min\u001b[0m \u001b[0mlist\u001b[0m\u001b[0;34m(\u001b[0m\u001b[0mself\u001b[0m\u001b[0;34m.\u001b[0m\u001b[0mjob\u001b[0m\u001b[0;34m)\u001b[0m\u001b[0;34m)\u001b[0m\u001b[0;34m:\u001b[0m\u001b[0;34m\u001b[0m\u001b[0;34m\u001b[0m\u001b[0m\n",
      "\u001b[0;31mH2OJobCancelled\u001b[0m: Job<$03017f00000132d4ffffffff$_81652de32ab44e4d4232f085062442ac> was cancelled by the user."
     ]
    }
   ],
   "source": [
    "import h2o\n",
    "print(h2o.__version__)\n",
    "from h2o.automl import H2OAutoML\n",
    "import datetime\n",
    "h2o.init(max_mem_size='64G')\n",
    "\n",
    "df = h2o.import_file(\"/home/bell/Documents/work/temp/dad-vector.csv\")\n",
    "\n",
    "print(df.shape)\n",
    "print(df.col_names)\n",
    "\n",
    "\n",
    "#df.columns.str.replace(' ','')\n",
    "\n",
    "#col_names = map(lambda s: s.replace(' ', '_'), df.col_names)\n",
    "#df.set_names(col_names)\n",
    "\n",
    "# 205374 rows x 13831 cols\n",
    "\n",
    "print(f'Size of training set: {df.shape[0]} rows and {df.shape[1]} columns')\n",
    "splits=df.split_frame(ratios=[0.8],seed=1)\n",
    "\n",
    "train=splits[0]\n",
    "\n",
    "test=splits[1]\n",
    "\n",
    "y=\"TLOS_CAT_BIN\" \n",
    "x=df.columns \n",
    "\n",
    "x.remove(y) \n",
    "x.remove(\"ACT_LCAT\")\n",
    "x.remove(\"ALC_LCAT\")\n",
    "x.remove(\"C1\")\n",
    "x.remove(\"TLOS_CAT\")\n",
    "\n",
    "train[y] = train[y].asfactor()\n",
    "test[y] = test[y].asfactor()\n",
    "train[x] = train[x].asfactor()\n",
    "test[x] = test[x].asfactor()\n",
    "\n",
    "\n",
    "\n",
    "aml=H2OAutoML(max_models=10, seed=1)\n",
    "aml.train(x=x,y=y, training_frame=train)\n",
    "lb=aml.leaderboard\n",
    "print(lb)\n",
    "\n",
    "file_name = '/home/bell/Documents/work/temp/'+datetime.datetime.now().strftime(\"%Y-%m-%d_%H:%M:%S\")+\".txt\"\n",
    "with open(file_name, \"w\") as text_file:\n",
    "    print(lb, file=text_file)\n",
    "# lb.head()\n",
    "\n",
    "# Get model ids for all models in the AutoML Leaderboard\n",
    "# model_ids = list(aml.leaderboard['model_id'].as_data_frame().iloc[:,0])\n",
    "# Get the \"All Models\" Stacked Ensemble model\n",
    "# se = h2o.get_model([mid for mid in model_ids if \"StackedEnsemble_AllModels\" in mid][0])\n",
    "# Get the Stacked Ensemble metalearner model\n",
    "# metalearner = h2o.get_model(se.metalearner()['name'])\n",
    "\n",
    "# file_name = datetime.datetime.now().strftime(\"%Y-%m-%d_%H:%M:%S\")+\".bin\"\n",
    "# h2o.save_model(aml.leader, path=file_name)\n",
    "\n",
    "# file_name = datetime.datetime.now().strftime(\"%Y-%m-%d_%H:%M:%S\")+\".zip\"\n",
    "# aml.leader.download_mojo(file_name)\n",
    "\n",
    "h2o.cluster().shutdown()"
   ]
  },
  {
   "cell_type": "code",
   "execution_count": 2,
   "metadata": {},
   "outputs": [
    {
     "name": "stdout",
     "output_type": "stream",
     "text": "H2O session _sid_96e1 closed.\n"
    }
   ],
   "source": [
    "h2o.cluster().shutdown()"
   ]
  },
  {
   "cell_type": "code",
   "execution_count": null,
   "metadata": {},
   "outputs": [],
   "source": []
  }
 ]
}